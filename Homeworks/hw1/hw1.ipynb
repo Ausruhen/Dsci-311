{
 "cells": [
  {
   "cell_type": "markdown",
   "metadata": {},
   "source": [
    "# Homework 1: A little review\n",
    "\n",
    "## Due Date: Monday, October 7th, 11:59PM\n",
    "\n",
    "Welcome to the first homework of 311! All homeworks will be due by 11:59pm on the Monday following their assignment. The objective with this assignment is to refresh some concepts and practices from DSCI101/102**"
   ]
  },
  {
   "cell_type": "markdown",
   "metadata": {},
   "source": [
    "## Collaboration Policy\n",
    "\n",
    "Data science is a collaborative activity. While you may talk with others about\n",
    "the homework, we ask that you **write your solutions individually**. If you do\n",
    "discuss the assignments with others please **include their names** below."
   ]
  },
  {
   "cell_type": "markdown",
   "metadata": {},
   "source": [
    "Collaborators: *list collaborators here*"
   ]
  },
  {
   "cell_type": "markdown",
   "metadata": {},
   "source": [
    "## Grading\n",
    "\n",
    "Grading is broken down into autograded answers and free response. \n",
    "\n",
    "For autograded answers, the results of your code are compared to provided and/or hidden tests. For most homeworks, the autograder will **only tell you whether your response is potentially correct** *i.e.* within a realistic range of values or of the correct value type. This is to help you avoid any unintended obvious errors, but won't tell you if your answer is correct.\n",
    "\n",
    "For free response, readers will evaluate how well you answered the question and/or fulfilled the requirements of the question. Now that you're in upper-divisional core coursework, there will be many more of these. \n",
    "\n",
    "For plots, make sure to be as descriptive as possible: include titles, axes labels, and units wherever applicable."
   ]
  },
  {
   "cell_type": "markdown",
   "metadata": {},
   "source": [
    "## Collaboration Policy\n",
    "\n",
    "Data science is a collaborative activity. While you may talk with others about\n",
    "the homework, we ask that you **write your solutions individually**. If you do\n",
    "discuss the assignments with others please **include their names** below."
   ]
  },
  {
   "cell_type": "markdown",
   "metadata": {},
   "source": [
    "**Collaborators, if any**:"
   ]
  },
  {
   "cell_type": "code",
   "execution_count": 1,
   "metadata": {},
   "outputs": [],
   "source": [
    "# Standard imports\n",
    "import numpy as np\n",
    "import pandas as pd\n",
    "\n",
    "%matplotlib inline\n",
    "import matplotlib.pyplot as plots\n",
    "plots.style.use('fivethirtyeight')\n",
    "import seaborn as sns\n",
    "\n",
    "path = 'https://github.com/oregon-data-science/DSCI101/raw/main/data/'\n",
    "\n",
    "# Initialize Otter\n",
    "import otter\n",
    "grader = otter.Notebook()"
   ]
  },
  {
   "cell_type": "markdown",
   "metadata": {},
   "source": [
    "On to the review then.\n",
    "\n",
    "## p-values"
   ]
  },
  {
   "cell_type": "markdown",
   "metadata": {},
   "source": [
    "### <font color='blue'>Run the next cell</font>\n",
    "\n",
    "Define the following functions. You will use `fitted_value` for question 2.9"
   ]
  },
  {
   "cell_type": "code",
   "execution_count": 2,
   "metadata": {},
   "outputs": [
    {
     "data": {
      "text/plain": [
       "'functions defined'"
      ]
     },
     "execution_count": 2,
     "metadata": {},
     "output_type": "execute_result"
    }
   ],
   "source": [
    "def standard_units(numbers):\n",
    "    ''' Given numbers array return z_array in standard units'''\n",
    "    z_array = (numbers - np.mean(numbers)) / np.std(numbers)\n",
    "    return z_array\n",
    "\n",
    "def correlation(table, label_x, label_y):\n",
    "    ''' Returns r, correlation of the 2 arrays  '''\n",
    "    r = np.mean(standard_units(table[label_x]) * \n",
    "                standard_units(table[label_y]))\n",
    "    return r\n",
    "\n",
    "def slope(table, label_x, label_y):\n",
    "    ''' Return slope of correlation line in original units'''\n",
    "    r = correlation(table, label_x, label_y)\n",
    "    return r * np.std(table[label_y]) / np.std(table[label_x])\n",
    "\n",
    "def intercept(table, label_x, label_y):\n",
    "    ''' return the y intercept in original units'''\n",
    "    b = (np.mean(table[label_y]) - \n",
    "         slope(table, label_x, label_y) * np.mean(table[label_x]))\n",
    "    return b\n",
    "\n",
    "def fitted_value(table, label_x, label_y, given_x):\n",
    "    ''' Fit given_x (a specific x value), predicts the specific y value'''\n",
    "    m = slope(table, label_x, label_y)\n",
    "    b = intercept(table, label_x, label_y)\n",
    "    predicted_y = m * given_x + b    \n",
    "    return predicted_y\n",
    "\n",
    "'functions defined'"
   ]
  },
  {
   "cell_type": "markdown",
   "metadata": {},
   "source": [
    "<img src='https://github.com/oregon-data-science/DSCI101/raw/main/images/640px-American_roulette_wheel_layout.png' width='250'>"
   ]
  },
  {
   "cell_type": "markdown",
   "metadata": {},
   "source": [
    "Roulette wheels like the one above have 38 places the roulette ball may land in:  \n",
    "2 green, or   \n",
    "18 red, or   \n",
    "18 black places.\n",
    "    \n",
    "With many rolls, you would expect to get red about 18 times out of every 38 rolls.\n",
    "\n",
    "You need to determine if a wheel that was rolled 100 times and resulted in red 61 times is a fair wheel."
   ]
  },
  {
   "cell_type": "markdown",
   "metadata": {},
   "source": [
    "### Section 1\n",
    "\n",
    "What is the **\"null hypothesis**\" regarding the roulette wheel in this case? \n",
    "\n"
   ]
  },
  {
   "cell_type": "markdown",
   "metadata": {},
   "source": [
    "**Your response**: The Null hypothesis is that the roulette wheel is fair, therefore it should roll red 18/38 times $\\approx$ 47.37%"
   ]
  },
  {
   "cell_type": "markdown",
   "metadata": {},
   "source": [
    "#### Question 1.2\n",
    "\n",
    "Create a model_proportions array that you can use with the **sample_proportions** function to bet red on the roulette wheel **100 times**."
   ]
  },
  {
   "cell_type": "code",
   "execution_count": 3,
   "metadata": {},
   "outputs": [
    {
     "data": {
      "text/plain": [
       "array([0.47368421, 0.47368421, 0.05263158])"
      ]
     },
     "execution_count": 3,
     "metadata": {},
     "output_type": "execute_result"
    }
   ],
   "source": [
    "rng = np.random.default_rng()\n",
    "red = 18/38\n",
    "black = 18/38\n",
    "green = 2/38\n",
    "total = 1\n",
    "\n",
    "# Create model_proportions as a numpy array\n",
    "model_proportions = np.array([red,black,green])\n",
    "model_proportions"
   ]
  },
  {
   "cell_type": "code",
   "execution_count": 4,
   "metadata": {},
   "outputs": [
    {
     "data": {
      "text/html": [
       "<p><strong><pre style='display: inline;'>q1_2</pre></strong> passed! 🎉</p>"
      ],
      "text/plain": [
       "q1_2 results: All test cases passed!"
      ]
     },
     "execution_count": 4,
     "metadata": {},
     "output_type": "execute_result"
    }
   ],
   "source": [
    "grader.check(\"q1_2\")"
   ]
  },
  {
   "cell_type": "markdown",
   "metadata": {},
   "source": [
    "The observed number of reds in 100 spins (61) is higher than the expected proportion. Might this be due to chance, or do we think we're playing with an unfair wheel? Let's perform a simulation. Simulate 1000 repetitions of 100 spins of the roulette wheel assuming the null hypothesis, determine the proportion of reds in each 100-spin sample, then compute the corresponding p-value. You will define two functions to do so: `sample_proportions` and `play_roulette`."
   ]
  },
  {
   "cell_type": "markdown",
   "metadata": {},
   "source": [
    "#### Question 1.3\n",
    "\n",
    "You may remember the function `sample_proportions` from the `datascience` package in 101/102. Because we've moved on from that package, you will now define the function yourself. Your function should take two arguments: an array of proportions (as in the form of `model_proportions`), and the number of random samples (roulette rolls) to take from the provided proportions. It should return an array of the estimated proportions of each color based on your sampling. \n",
    "\n",
    "*hint:* There are a few different ways you can create this function, but it might be helpful to use the function `np.random.choice`. You can look at its help file for usage examples. "
   ]
  },
  {
   "cell_type": "code",
   "execution_count": 6,
   "metadata": {},
   "outputs": [
    {
     "data": {
      "text/plain": [
       "array([0.47368421, 0.47368421, 0.05263158])"
      ]
     },
     "execution_count": 6,
     "metadata": {},
     "output_type": "execute_result"
    }
   ],
   "source": [
    "model_proportions = np.array([red,black,green])\n",
    "np.unique(np.random.choice(['red', 'black', 'green'], p = model_proportions, size = 10000), return_counts = True)\n",
    "model_proportions"
   ]
  },
  {
   "cell_type": "code",
   "execution_count": null,
   "metadata": {},
   "outputs": [],
   "source": [
    "# Define sample_proportions\n",
    "def sample_proportions(proportions, spins):\n",
    "    proportions = np.random.choice(['red', 'black', 'green'], p = proportions, size = spins)\n",
    "    estimated_props = np.unique(proportions,return_counts = True)[1]/spins #np automatically sorts this by alphabet black-green-red\n",
    "    return estimated_props\n",
    "   "
   ]
  },
  {
   "cell_type": "code",
   "execution_count": null,
   "metadata": {},
   "outputs": [],
   "source": [
    "sample_proportions(model_proportions, 100)"
   ]
  },
  {
   "cell_type": "code",
   "execution_count": 8,
   "metadata": {},
   "outputs": [
    {
     "data": {
      "text/html": [
       "<p><strong><pre style='display: inline;'>q1_3</pre></strong> passed! 💯</p>"
      ],
      "text/plain": [
       "q1_3 results: All test cases passed!"
      ]
     },
     "execution_count": 8,
     "metadata": {},
     "output_type": "execute_result"
    }
   ],
   "source": [
    "grader.check(\"q1_3\")"
   ]
  },
  {
   "cell_type": "markdown",
   "metadata": {},
   "source": [
    "#### Question 1.4\n",
    "\n",
    "Now define `play_roulette`. Your function should take one argument: the number of repetitions in our simulation. It should return an array of sampled red proportions of length equal to the number of repetitions. Use `model_proportions` in your function."
   ]
  },
  {
   "cell_type": "code",
   "execution_count": 9,
   "metadata": {},
   "outputs": [],
   "source": [
    "# Define this function\n",
    "def play_roulette(repetitions):\n",
    "    red_results = np.array([])\n",
    "    for i in range(repetitions):\n",
    "        sample = sample_proportions(model_proportions,100) #doing 100 times because thats what the exampel above did\n",
    "        red_results = np.append(red_results, sample[-1])#we take the last index because red is always last: reasoning above\n",
    "    return red_results\n",
    "\n",
    "simulated_reds = play_roulette(1000);"
   ]
  },
  {
   "cell_type": "code",
   "execution_count": 10,
   "metadata": {},
   "outputs": [
    {
     "data": {
      "text/html": [
       "<p><strong><pre style='display: inline;'>q1_4</pre></strong> passed! 🌟</p>"
      ],
      "text/plain": [
       "q1_4 results: All test cases passed!"
      ]
     },
     "execution_count": 10,
     "metadata": {},
     "output_type": "execute_result"
    }
   ],
   "source": [
    "grader.check(\"q1_4\")"
   ]
  },
  {
   "cell_type": "markdown",
   "metadata": {},
   "source": [
    "#### Question 1.5\n",
    "\n",
    "Determine the **proportion** of times the number of simulated reds was greater than the observed reds. "
   ]
  },
  {
   "cell_type": "code",
   "execution_count": 11,
   "metadata": {},
   "outputs": [
    {
     "data": {
      "text/plain": [
       "0.002"
      ]
     },
     "execution_count": 11,
     "metadata": {},
     "output_type": "execute_result"
    }
   ],
   "source": [
    "# Compute the p_value given an observed value\n",
    "observed_reds = .61 #as proportion because were comparing to a proportion\n",
    "\n",
    "prop_red_greater = np.sum(simulated_reds > .61)/len(simulated_reds) \n",
    "prop_red_greater"
   ]
  },
  {
   "cell_type": "markdown",
   "metadata": {},
   "source": [
    "What does this proportion mean with respect to our hypotheses? Based on your answer, would you reject the null hypothesis?"
   ]
  },
  {
   "cell_type": "markdown",
   "metadata": {},
   "source": [
    "**Your response:** This means that given that the wheel was fair with the expected proportions as given above, there was a .005% chance of obtaining a simulated sample as or more rare than this. We should reject the null hypothesis that the wheel is fair because we have a statistically significant p-value of .003 which is less than the standard cut off of .05. This means it is extremely unlikely that the wheel rolls red $\\approx$ 47.37% of the time."
   ]
  },
  {
   "cell_type": "code",
   "execution_count": 12,
   "metadata": {},
   "outputs": [],
   "source": [
    "reject_null = True"
   ]
  },
  {
   "cell_type": "code",
   "execution_count": 13,
   "metadata": {},
   "outputs": [
    {
     "data": {
      "text/html": [
       "<p><strong><pre style='display: inline;'>q1_5</pre></strong> passed! 🎉</p>"
      ],
      "text/plain": [
       "q1_5 results: All test cases passed!"
      ]
     },
     "execution_count": 13,
     "metadata": {},
     "output_type": "execute_result"
    }
   ],
   "source": [
    "grader.check(\"q1_5\")"
   ]
  },
  {
   "cell_type": "markdown",
   "metadata": {},
   "source": [
    "### Section 2"
   ]
  },
  {
   "cell_type": "markdown",
   "metadata": {},
   "source": [
    "The next series of questions will test your conceptual understanding of some of the most important topics covered in the 101/102 series. "
   ]
  },
  {
   "cell_type": "markdown",
   "metadata": {},
   "source": [
    "#### Question 2.1\n",
    "\n",
    "We wish to evaluate the effect of maternal smoking habit on the birth weight of newborns. "
   ]
  },
  {
   "cell_type": "code",
   "execution_count": 14,
   "metadata": {},
   "outputs": [
    {
     "data": {
      "text/html": [
       "<div>\n",
       "<style scoped>\n",
       "    .dataframe tbody tr th:only-of-type {\n",
       "        vertical-align: middle;\n",
       "    }\n",
       "\n",
       "    .dataframe tbody tr th {\n",
       "        vertical-align: top;\n",
       "    }\n",
       "\n",
       "    .dataframe thead th {\n",
       "        text-align: right;\n",
       "    }\n",
       "</style>\n",
       "<table border=\"1\" class=\"dataframe\">\n",
       "  <thead>\n",
       "    <tr style=\"text-align: right;\">\n",
       "      <th></th>\n",
       "      <th>Birth Weight</th>\n",
       "      <th>Maternal Smoker</th>\n",
       "    </tr>\n",
       "  </thead>\n",
       "  <tbody>\n",
       "    <tr>\n",
       "      <th>0</th>\n",
       "      <td>120</td>\n",
       "      <td>False</td>\n",
       "    </tr>\n",
       "    <tr>\n",
       "      <th>1</th>\n",
       "      <td>113</td>\n",
       "      <td>False</td>\n",
       "    </tr>\n",
       "    <tr>\n",
       "      <th>2</th>\n",
       "      <td>128</td>\n",
       "      <td>True</td>\n",
       "    </tr>\n",
       "  </tbody>\n",
       "</table>\n",
       "</div>"
      ],
      "text/plain": [
       "   Birth Weight  Maternal Smoker\n",
       "0           120            False\n",
       "1           113            False\n",
       "2           128             True"
      ]
     },
     "execution_count": 14,
     "metadata": {},
     "output_type": "execute_result"
    }
   ],
   "source": [
    "baby = pd.read_table(path+'baby.csv', sep = \",\")[[\"Birth Weight\", \"Maternal Smoker\"]]\n",
    "baby.head(3)"
   ]
  },
  {
   "cell_type": "markdown",
   "metadata": {},
   "source": [
    "As a first step, we shuffle the smoker column with respect to maternal birth weight. Why? Assign your selection to `q2_1` below. \n",
    "\n",
    "1) This is one step in splitting the data into train/test sets\n",
    "\n",
    "2) This lets us simulate the test statistic under the null hypothesis. \n",
    "\n",
    "3) Maternal smoking habit is a confounding variable we wish to control for. "
   ]
  },
  {
   "cell_type": "code",
   "execution_count": 15,
   "metadata": {},
   "outputs": [],
   "source": [
    "q2_1 = 2"
   ]
  },
  {
   "cell_type": "code",
   "execution_count": 16,
   "metadata": {},
   "outputs": [
    {
     "data": {
      "text/html": [
       "<p><strong><pre style='display: inline;'>q2_1</pre></strong> passed! 🌈</p>"
      ],
      "text/plain": [
       "q2_1 results: All test cases passed!"
      ]
     },
     "execution_count": 16,
     "metadata": {},
     "output_type": "execute_result"
    }
   ],
   "source": [
    "grader.check(\"q2_1\")"
   ]
  },
  {
   "cell_type": "markdown",
   "metadata": {},
   "source": [
    "#### Question 2.2\n",
    "\n",
    "You are a summer intern with a group that has some donor funding. They spent $10,000 to gather data from a **representative random sample of 500** responses from the local community. Problem: the **standard deviation of the data is far too large** to confidently describe the local community.\n",
    "\n",
    "They would like to reduce the standard deviation to **about one third** of what it is now. They hope that for a total cost of $30,000 they can get a total of 1500 responses.\n",
    "\n",
    "How will tripling your sample size affect your standard deviation? What would you recommend to your donors based on your answer? Feel free to use code to help you answer this question. "
   ]
  },
  {
   "cell_type": "code",
   "execution_count": 17,
   "metadata": {},
   "outputs": [
    {
     "data": {
      "text/plain": [
       "22.360679774997898"
      ]
     },
     "execution_count": 17,
     "metadata": {},
     "output_type": "execute_result"
    }
   ],
   "source": [
    "import math\n",
    "math.sqrt(500)"
   ]
  },
  {
   "cell_type": "markdown",
   "metadata": {},
   "source": [
    "**Your response:** The standard deviation is calculated by square rooting the sum of differences from the mean squared divided by your sample size n. $$Std = \\sqrt{\\frac{\\Sigma (x - \\vec{x})^2}{n-1}}$$\n",
    "If these donors tripled the sample size they would notice that it would *not* reduce the standard deviation to a third of what it is now. As we can see in the equation above, if we trippled the sample size we would expect to see a reduction in standard deviation by $\\frac{1}{\\sqrt{3}}$. (Because it's essentially multiplying 3 to where that n-1 is, which could be factored out of the square root as a $\\frac{1}{\\sqrt{3}}$. Based on this math, I would recommend to the donors to come up with another plan of action because for 30,000$ total they will not get their expected result. \n",
    "\n"
   ]
  },
  {
   "cell_type": "markdown",
   "metadata": {},
   "source": [
    "#### Question 2.3\n",
    "\n",
    "We have data and wish to train a predictive model by splitting it into 2 parts (training and testing). We take the first 90 rows of data as training, the rest as testing.\n",
    "\n",
    "Are there any problems with this approach? If so, what would you recommend?"
   ]
  },
  {
   "cell_type": "markdown",
   "metadata": {},
   "source": [
    "**Your response:** This way of splitting the training and test sets is flawed. This is because we are not certain how the data was collected, such that the first 90 rows of data may have different forms of bias in it from how it was collected. To fix this first problem the easiest solution is shuffling the data before splitting it into train and test sets because then it removes biases from how the data was originally collected."
   ]
  },
  {
   "cell_type": "markdown",
   "metadata": {},
   "source": [
    "#### Question 2.4\n",
    "\n",
    "You and your lab partner are working with data from several columns. You want to predict some response variable and have two distinct linear models, one for each predictor. What is most appropriate way to compare the fit of the two models? Assign your answer to `q2_4` below.\n",
    "\n",
    "1) Compute the sum of the residuals to compare the two models\n",
    "\n",
    "2) Visually assess the fit of the two lines to the data\n",
    "\n",
    "3) Compute mean squared error to compare the two models"
   ]
  },
  {
   "cell_type": "code",
   "execution_count": 18,
   "metadata": {},
   "outputs": [],
   "source": [
    "q2_4 = 3"
   ]
  },
  {
   "cell_type": "code",
   "execution_count": 19,
   "metadata": {},
   "outputs": [
    {
     "data": {
      "text/html": [
       "<p><strong><pre style='display: inline;'>q2_4</pre></strong> passed! 🚀</p>"
      ],
      "text/plain": [
       "q2_4 results: All test cases passed!"
      ]
     },
     "execution_count": 19,
     "metadata": {},
     "output_type": "execute_result"
    }
   ],
   "source": [
    "grader.check(\"q2_4\")"
   ]
  },
  {
   "cell_type": "markdown",
   "metadata": {},
   "source": [
    "#### Question 2.5\n",
    "\n",
    "Which of the following is true about the **Central Limit Theorem**? There is only one correct answer. Assign your answer to q2_5 below. \n",
    "\n",
    "1) Given a large enough sample size, any variable will become approximately normally distributed. \n",
    "\n",
    "2) Given a large enough sample size, the estimated mean of a population will be drawn from an approximately normal distribution. \n",
    "\n",
    "3) Confidence in a sample statistic can only be estimated from normally distributed variables."
   ]
  },
  {
   "cell_type": "code",
   "execution_count": 20,
   "metadata": {},
   "outputs": [],
   "source": [
    "q2_5 = 2"
   ]
  },
  {
   "cell_type": "code",
   "execution_count": 21,
   "metadata": {},
   "outputs": [
    {
     "data": {
      "text/html": [
       "<p><strong><pre style='display: inline;'>q2_5</pre></strong> passed! 💯</p>"
      ],
      "text/plain": [
       "q2_5 results: All test cases passed!"
      ]
     },
     "execution_count": 21,
     "metadata": {},
     "output_type": "execute_result"
    }
   ],
   "source": [
    "grader.check(\"q2_5\")"
   ]
  },
  {
   "cell_type": "markdown",
   "metadata": {},
   "source": [
    "#### Question 2.6\n",
    "\n",
    "A 2022 review of COVID rapid tests in Europe reported an approximate 10% false positive rate, and a 20% false negative rate. 1000 individuals with COVID-like symptoms, 300 of whom actually have COVID, test themselves. Would we expect that there will be more people without COVID that test positive, or more people that have COVID but test negative. Assign your answer to q2_6 below. \n",
    "\n",
    "1) More people without COVID that test positive\n",
    "\n",
    "2) More people with COVID that test negative"
   ]
  },
  {
   "cell_type": "code",
   "execution_count": 22,
   "metadata": {},
   "outputs": [
    {
     "data": {
      "text/plain": [
       "(70.0, 60.0, 1000.0)"
      ]
     },
     "execution_count": 22,
     "metadata": {},
     "output_type": "execute_result"
    }
   ],
   "source": [
    "#check which is greater people without covid that test positive aor people with covid that negative\n",
    "covid_true_pos = 300 * .8\n",
    "covid_false_neg = 300 * .2\n",
    "safe_true_neg = 700 * .9\n",
    "safe_false_pos = 700 * .1\n",
    "safe_false_pos, covid_false_neg, sum([safe_false_pos,covid_false_neg,safe_true_neg,covid_true_pos])"
   ]
  },
  {
   "cell_type": "code",
   "execution_count": 23,
   "metadata": {},
   "outputs": [],
   "source": [
    "q2_6 = 1"
   ]
  },
  {
   "cell_type": "code",
   "execution_count": 24,
   "metadata": {},
   "outputs": [
    {
     "data": {
      "text/html": [
       "<p><strong><pre style='display: inline;'>q2_6</pre></strong> passed! 🚀</p>"
      ],
      "text/plain": [
       "q2_6 results: All test cases passed!"
      ]
     },
     "execution_count": 24,
     "metadata": {},
     "output_type": "execute_result"
    }
   ],
   "source": [
    "grader.check(\"q2_6\")"
   ]
  },
  {
   "cell_type": "markdown",
   "metadata": {},
   "source": [
    "#### Question 2.7\n",
    "\n",
    "Underdiagnosis of a medical condition is when the majority of individuals in a population with a condition aren't diagnosed with the condition.\n",
    "\n",
    "Overdiagnosis is when the majority of those diagnosed with a condition shouldn't have been diagnosed with the condition. \n",
    "\n",
    "In the adult population in the U.S., it is estimated that ~3% of individuals have ADHD. Let's assume that 60% of invididuals with ADHD decide to get evaluated, while 10% without ADHD think they may have the condition and also decide to get evaluated. The evaluation process is variable and prone to error. On average, ADHD evaluation has a 20% false negative rate and a 20% false positive rate. These approximate estimates come from a [meta-analysis on adult ADHD assessment](https://www.sciencedirect.com/science/article/pii/S0891422210003264?casa_token=4X4o0NmEjf0AAAAA:fTcQ4VkVh1Oz5Ze73HG5ljGac9Aiyz2rrI8hS9U27PTty9Q7DcdOMbqyNOSgX4dljNU_QDiwqDU#bib0010) (a meta-analysis is a study of studies). \n",
    "\n",
    "Is ADHD in the adult population underdiagnosed, overdiagnosed, or both? Explain."
   ]
  },
  {
   "cell_type": "markdown",
   "metadata": {},
   "source": [
    "**Your response:**  Were going to answer this question with the code below to show where these numbers are coming from. At the end it will be shown in a dataframe for clarity. Now that it's clear in a Dataframe of the proportions of people with adhd and without adhd with postive and negative tests, we can see that it is underdiagnosed and overdiagnosed. This is because we estimate 3% of the population to have adhd $\\approx$ 10,080,000, while we estimate that of those people with adhd 4,838,400 will choose to take the test and recieve a positive result. This means of the group with adhd about 48% are diagnosed, which is below majority which would qualify this to be underdiagnosed. It is also overdiagnosed because the majority of people diagnosed don't actually have adhd. This is because the 10% of the population that don't have adhd get evaluated and by sheer number, there are enough false positives to outweight the true positives.\n",
    "\n"
   ]
  },
  {
   "cell_type": "code",
   "execution_count": 25,
   "metadata": {},
   "outputs": [
    {
     "data": {
      "text/html": [
       "<div>\n",
       "<style scoped>\n",
       "    .dataframe tbody tr th:only-of-type {\n",
       "        vertical-align: middle;\n",
       "    }\n",
       "\n",
       "    .dataframe tbody tr th {\n",
       "        vertical-align: top;\n",
       "    }\n",
       "\n",
       "    .dataframe thead th {\n",
       "        text-align: right;\n",
       "    }\n",
       "</style>\n",
       "<table border=\"1\" class=\"dataframe\">\n",
       "  <thead>\n",
       "    <tr style=\"text-align: right;\">\n",
       "      <th></th>\n",
       "      <th>Has ADHD</th>\n",
       "      <th>No ADHD</th>\n",
       "    </tr>\n",
       "  </thead>\n",
       "  <tbody>\n",
       "    <tr>\n",
       "      <th>Positive Test</th>\n",
       "      <td>4838400.0</td>\n",
       "      <td>6518400.0</td>\n",
       "    </tr>\n",
       "    <tr>\n",
       "      <th>Negative Test</th>\n",
       "      <td>1209600.0</td>\n",
       "      <td>26073600.0</td>\n",
       "    </tr>\n",
       "  </tbody>\n",
       "</table>\n",
       "</div>"
      ],
      "text/plain": [
       "                Has ADHD     No ADHD\n",
       "Positive Test  4838400.0   6518400.0\n",
       "Negative Test  1209600.0  26073600.0"
      ]
     },
     "execution_count": 25,
     "metadata": {},
     "output_type": "execute_result"
    }
   ],
   "source": [
    "#underdiagonsed = majority within population that have aren't diagnosed\n",
    "#overdiagnosedd = majority of diagnosed shouldn't have been diagnosed\n",
    "\n",
    "us_pop_no = 336000000 * .97\n",
    "est_adhd_pop = 336000000*.03 #3360000000 comes from the us_population\n",
    "\n",
    "adhd_pos =  .6*(est_adhd_pop)*.8 #60% of people with adhd go and get tested and get a positive test\n",
    "adhd_neg =  .6*(est_adhd_pop)*.2 #of that 60%, 20% get a false negative\n",
    "\n",
    "no_adhd_pos = us_pop_no * .1 * .2 #us population without adhd, 10% get tested, 20% of them get a false postive test\n",
    "no_adhd_neg = us_pop_no * .1 * .8\n",
    "\n",
    "adhd_table = pd.DataFrame({\"Has ADHD\": [adhd_pos,adhd_neg], \"No ADHD\":[no_adhd_pos,no_adhd_neg]}, index = [\"Positive Test\", \"Negative Test\"])\n",
    "adhd_table"
   ]
  },
  {
   "cell_type": "markdown",
   "metadata": {},
   "source": [
    "#### Question 2.8\n",
    "\n",
    "Read in the following table."
   ]
  },
  {
   "cell_type": "code",
   "execution_count": 26,
   "metadata": {},
   "outputs": [
    {
     "data": {
      "text/html": [
       "<div>\n",
       "<style scoped>\n",
       "    .dataframe tbody tr th:only-of-type {\n",
       "        vertical-align: middle;\n",
       "    }\n",
       "\n",
       "    .dataframe tbody tr th {\n",
       "        vertical-align: top;\n",
       "    }\n",
       "\n",
       "    .dataframe thead th {\n",
       "        text-align: right;\n",
       "    }\n",
       "</style>\n",
       "<table border=\"1\" class=\"dataframe\">\n",
       "  <thead>\n",
       "    <tr style=\"text-align: right;\">\n",
       "      <th></th>\n",
       "      <th>Age</th>\n",
       "      <th>Length</th>\n",
       "    </tr>\n",
       "  </thead>\n",
       "  <tbody>\n",
       "    <tr>\n",
       "      <th>0</th>\n",
       "      <td>1.0</td>\n",
       "      <td>1.80</td>\n",
       "    </tr>\n",
       "    <tr>\n",
       "      <th>1</th>\n",
       "      <td>1.5</td>\n",
       "      <td>1.85</td>\n",
       "    </tr>\n",
       "    <tr>\n",
       "      <th>2</th>\n",
       "      <td>1.5</td>\n",
       "      <td>1.87</td>\n",
       "    </tr>\n",
       "    <tr>\n",
       "      <th>3</th>\n",
       "      <td>1.5</td>\n",
       "      <td>1.77</td>\n",
       "    </tr>\n",
       "    <tr>\n",
       "      <th>4</th>\n",
       "      <td>2.5</td>\n",
       "      <td>2.02</td>\n",
       "    </tr>\n",
       "  </tbody>\n",
       "</table>\n",
       "</div>"
      ],
      "text/plain": [
       "   Age  Length\n",
       "0  1.0    1.80\n",
       "1  1.5    1.85\n",
       "2  1.5    1.87\n",
       "3  1.5    1.77\n",
       "4  2.5    2.02"
      ]
     },
     "execution_count": 26,
     "metadata": {},
     "output_type": "execute_result"
    }
   ],
   "source": [
    "dugongs = pd.read_table(path + 'dugongs.csv', sep = \",\")\n",
    "dugongs.head()"
   ]
  },
  {
   "cell_type": "code",
   "execution_count": 27,
   "metadata": {},
   "outputs": [
    {
     "data": {
      "image/png": "[encoded data removed]",
      "text/plain": [
       "<Figure size 500x500 with 1 Axes>"
      ]
     },
     "metadata": {},
     "output_type": "display_data"
    }
   ],
   "source": [
    "# Visualize the relationship between dugong length and their age\n",
    "sns.relplot(data = dugongs, x = \"Age\", y = \"Length\");"
   ]
  },
  {
   "cell_type": "markdown",
   "metadata": {},
   "source": [
    "Using `fitted_values()` defined above, predict the length of a dugong of that's 7 years old. Do the same for a dugong 50 years old.  "
   ]
  },
  {
   "cell_type": "code",
   "execution_count": 28,
   "metadata": {},
   "outputs": [
    {
     "data": {
      "text/plain": [
       "(2.220972811648208, 3.4660485456992034)"
      ]
     },
     "execution_count": 28,
     "metadata": {},
     "output_type": "execute_result"
    }
   ],
   "source": [
    "dugong_7 = fitted_value(dugongs,\"Age\", \"Length\", 7)\n",
    "dugong_50 = fitted_value(dugongs,\"Age\", \"Length\", 50)\n",
    "dugong_7,dugong_50"
   ]
  },
  {
   "cell_type": "code",
   "execution_count": 29,
   "metadata": {},
   "outputs": [
    {
     "data": {
      "text/html": [
       "<p><strong><pre style='display: inline;'>q2_8</pre></strong> passed! ✨</p>"
      ],
      "text/plain": [
       "q2_8 results: All test cases passed!"
      ]
     },
     "execution_count": 29,
     "metadata": {},
     "output_type": "execute_result"
    }
   ],
   "source": [
    "grader.check(\"q2_8\")"
   ]
  },
  {
   "cell_type": "markdown",
   "metadata": {},
   "source": [
    "#### Question 2.9\n",
    "\n",
    "Based on visual assessment of the relationship between dugong age and length, do you think the estimate for a 7-year old dugong is a good one. What about the estimate for a 50-year old dugong? Explain your answer to each below. "
   ]
  },
  {
   "cell_type": "markdown",
   "metadata": {},
   "source": [
    "**Your response**: I'll be referncing the plot I made below. I repurposed the original fitted val function. I think the 7 year old dugong prediction is reasonable. Looking at the fitted line with the predicted val being 2.2, it looks like at age 7 the length of 2.2 meters falls roughly within a small cluster of points. As far as the 50-year old dugogong, our prediction is clearly extrapolated from our original data which makes it unreliable considering the bounds of our original graph. It looks like the relationship between age and length is logorithimic, and I would expect the length to taper off as a particular dugong gets older. Our prediction for the 50-year old dugong suffers from a lack of information of dugongs at that age. "
   ]
  },
  {
   "cell_type": "code",
   "execution_count": 30,
   "metadata": {},
   "outputs": [
    {
     "data": {
      "image/png": "[encoded data removed]",
      "text/plain": [
       "<Figure size 640x480 with 1 Axes>"
      ]
     },
     "metadata": {},
     "output_type": "display_data"
    }
   ],
   "source": [
    "plots.scatter(dugongs[\"Age\"], dugongs[\"Length\"])\n",
    "x_vals = np.linspace(0,30,100)\n",
    "plots.plot(x_vals,fitted_value(dugongs,\"Age\", \"Length\", x_vals))\n",
    "plots.xlabel(\"Age\"); plots.ylabel(\"Length\");"
   ]
  },
  {
   "cell_type": "markdown",
   "metadata": {},
   "source": [
    "## Submission\n",
    "\n",
    "Make sure you have run all cells in your notebook in order. Then execute the following two commands from the File menu:\n",
    "\n",
    "* Save and Checkpoint\n",
    "* Close and Halt\n",
    "\n",
    "Then upload your .ipynb file to Canvas assignment HW1"
   ]
  },
  {
   "cell_type": "code",
   "execution_count": 31,
   "metadata": {},
   "outputs": [
    {
     "data": {
      "text/html": [
       "<div>\n",
       "<style scoped>\n",
       "    .dataframe tbody tr th:only-of-type {\n",
       "        vertical-align: middle;\n",
       "    }\n",
       "\n",
       "    .dataframe tbody tr th {\n",
       "        vertical-align: top;\n",
       "    }\n",
       "\n",
       "    .dataframe thead th {\n",
       "        text-align: right;\n",
       "    }\n",
       "</style>\n",
       "<table border=\"1\" class=\"dataframe\">\n",
       "  <thead>\n",
       "    <tr style=\"text-align: right;\">\n",
       "      <th></th>\n",
       "      <th>Age</th>\n",
       "      <th>Length</th>\n",
       "    </tr>\n",
       "  </thead>\n",
       "  <tbody>\n",
       "    <tr>\n",
       "      <th>0</th>\n",
       "      <td>1.0</td>\n",
       "      <td>1.80</td>\n",
       "    </tr>\n",
       "    <tr>\n",
       "      <th>1</th>\n",
       "      <td>1.5</td>\n",
       "      <td>1.85</td>\n",
       "    </tr>\n",
       "    <tr>\n",
       "      <th>2</th>\n",
       "      <td>1.5</td>\n",
       "      <td>1.87</td>\n",
       "    </tr>\n",
       "    <tr>\n",
       "      <th>3</th>\n",
       "      <td>1.5</td>\n",
       "      <td>1.77</td>\n",
       "    </tr>\n",
       "    <tr>\n",
       "      <th>4</th>\n",
       "      <td>2.5</td>\n",
       "      <td>2.02</td>\n",
       "    </tr>\n",
       "  </tbody>\n",
       "</table>\n",
       "</div>"
      ],
      "text/plain": [
       "   Age  Length\n",
       "0  1.0    1.80\n",
       "1  1.5    1.85\n",
       "2  1.5    1.87\n",
       "3  1.5    1.77\n",
       "4  2.5    2.02"
      ]
     },
     "execution_count": 31,
     "metadata": {},
     "output_type": "execute_result"
    }
   ],
   "source": [
    "#this is not necessary but doing it to test myself\n",
    "import matplotlib.pyplot as plt\n",
    "path = 'https://github.com/oregon-data-science/DSCI101/raw/main/data/'\n",
    "dugongs = pd.read_table(path + 'dugongs.csv', sep = \",\")\n",
    "dugongs.head()"
   ]
  },
  {
   "cell_type": "code",
   "execution_count": 32,
   "metadata": {},
   "outputs": [
    {
     "data": {
      "text/plain": [
       "<matplotlib.collections.PathCollection at 0x23bd68cc790>"
      ]
     },
     "execution_count": 32,
     "metadata": {},
     "output_type": "execute_result"
    },
    {
     "data": {
      "image/png": "[encoded data removed]",
      "text/plain": [
       "<Figure size 640x480 with 1 Axes>"
      ]
     },
     "metadata": {},
     "output_type": "display_data"
    }
   ],
   "source": [
    "log_dugong_x = np.log(dugongs[\"Age\"])\n",
    "log_dugong_y = np.log(dugongs[\"Length\"])  #converting the data into log form\n",
    "\n",
    "mse_slope = np.std(log_dugong_y) * np.corrcoef(log_dugong_x,log_dugong_y)[0,1] / np.std(log_dugong_x)\n",
    "mse_intercept = np.mean(log_dugong_y) - np.mean(log_dugong_x) * mse_slope\n",
    "plt.axline(xy1= (np.mean(log_dugong_x), np.mean(log_dugong_y)), slope = mse_slope) #graphing an mse_line for the log data\n",
    "plt.scatter(log_dugong_x,log_dugong_y)\n"
   ]
  },
  {
   "cell_type": "markdown",
   "metadata": {},
   "source": [
    "Hi, Andy! I totally remember you (positively =).\n",
    "\n",
    "The problem is you're fitting\n",
    "\n",
    "log(y) = a * log(x) + b + (error)\n",
    "\n",
    "and so to put that back in real units this is\n",
    "\n",
    "y = exp(a * log(x) + b + error) = exp(b) * x^a * (multiplicative error)\n",
    "\n",
    "What you're doing is appropriate if you'd fit\n",
    "\n",
    "log(y) = a * x + b\n",
    "\n",
    "Best of luck!"
   ]
  },
  {
   "cell_type": "code",
   "execution_count": 34,
   "metadata": {},
   "outputs": [
    {
     "data": {
      "text/plain": [
       "(1.5, 2.873869644867805)"
      ]
     },
     "execution_count": 34,
     "metadata": {},
     "output_type": "execute_result"
    },
    {
     "data": {
      "image/png": "[encoded data removed]",
      "text/plain": [
       "<Figure size 500x500 with 1 Axes>"
      ]
     },
     "metadata": {},
     "output_type": "display_data"
    }
   ],
   "source": [
    "sns.relplot(data = dugongs, x = \"Age\", y = \"Length\")\n",
    "x_val = np.linspace(0.1,35,100)\n",
    "predict_y = np.exp((mse_slope * np.log(x_val) + mse_intercept))\n",
    "plt.plot(x_val,predict_y)\n",
    "plt.ylim(1.5)\n"
   ]
  },
  {
   "cell_type": "code",
   "execution_count": null,
   "metadata": {},
   "outputs": [],
   "source": []
  }
 ],
 "metadata": {
  "kernelspec": {
   "display_name": "Python 3 (ipykernel)",
   "language": "python",
   "name": "python3"
  },
  "language_info": {
   "codemirror_mode": {
    "name": "ipython",
    "version": 3
   },
   "file_extension": ".py",
   "mimetype": "text/x-python",
   "name": "python",
   "nbconvert_exporter": "python",
   "pygments_lexer": "ipython3",
   "version": "3.11.1"
  }
 },
 "nbformat": 4,
 "nbformat_minor": 4
}
